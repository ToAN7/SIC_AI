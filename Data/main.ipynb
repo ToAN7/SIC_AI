{
 "cells": [
  {
   "cell_type": "code",
   "execution_count": 23,
   "metadata": {},
   "outputs": [
    {
     "name": "stdout",
     "output_type": "stream",
     "text": [
      "<class 'int'>\n"
     ]
    }
   ],
   "source": [
    "number_of_data = 0\n",
    "\n",
    "with open(\"count.txt\", 'r') as text:\n",
    "    number_of_data = int(text.read())\n",
    "    print(type(number_of_data))\n",
    "\n",
    "with open(\"count.txt\", 'w') as text:\n",
    "    text.write(str(number_of_data + 1))\n"
   ]
  }
 ],
 "metadata": {
  "kernelspec": {
   "display_name": "Python 3",
   "language": "python",
   "name": "python3"
  },
  "language_info": {
   "codemirror_mode": {
    "name": "ipython",
    "version": 3
   },
   "file_extension": ".py",
   "mimetype": "text/x-python",
   "name": "python",
   "nbconvert_exporter": "python",
   "pygments_lexer": "ipython3",
   "version": "3.9.18"
  }
 },
 "nbformat": 4,
 "nbformat_minor": 2
}
