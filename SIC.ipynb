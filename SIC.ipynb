{
  "nbformat": 4,
  "nbformat_minor": 0,
  "metadata": {
    "colab": {
      "provenance": [],
      "mount_file_id": "1TVwLBqum7zTHqHLSZijprFJ7pvby6_JC",
      "authorship_tag": "ABX9TyOMuXzIg94fMiU6qAYSc9q6",
      "include_colab_link": true
    },
    "kernelspec": {
      "name": "python3",
      "display_name": "Python 3"
    },
    "language_info": {
      "name": "python"
    }
  },
  "cells": [
    {
      "cell_type": "markdown",
      "metadata": {
        "id": "view-in-github",
        "colab_type": "text"
      },
      "source": [
        "<a href=\"https://colab.research.google.com/github/ToAN7/SIC_AI/blob/TrongKha_/SIC.ipynb\" target=\"_parent\"><img src=\"https://colab.research.google.com/assets/colab-badge.svg\" alt=\"Open In Colab\"/></a>"
      ]
    },
    {
      "cell_type": "code",
      "source": [
        "!pip install sentence_transformers"
      ],
      "metadata": {
        "colab": {
          "base_uri": "https://localhost:8080/"
        },
        "id": "jWmVM1gPbAsM",
        "outputId": "2c9f4345-da28-4dc2-84e1-e054cd24753a"
      },
      "execution_count": 1,
      "outputs": [
        {
          "output_type": "stream",
          "name": "stdout",
          "text": [
            "Collecting sentence_transformers\n",
            "  Downloading sentence_transformers-3.0.1-py3-none-any.whl.metadata (10 kB)\n",
            "Requirement already satisfied: transformers<5.0.0,>=4.34.0 in /usr/local/lib/python3.10/dist-packages (from sentence_transformers) (4.42.4)\n",
            "Requirement already satisfied: tqdm in /usr/local/lib/python3.10/dist-packages (from sentence_transformers) (4.66.5)\n",
            "Requirement already satisfied: torch>=1.11.0 in /usr/local/lib/python3.10/dist-packages (from sentence_transformers) (2.3.1+cu121)\n",
            "Requirement already satisfied: numpy in /usr/local/lib/python3.10/dist-packages (from sentence_transformers) (1.26.4)\n",
            "Requirement already satisfied: scikit-learn in /usr/local/lib/python3.10/dist-packages (from sentence_transformers) (1.3.2)\n",
            "Requirement already satisfied: scipy in /usr/local/lib/python3.10/dist-packages (from sentence_transformers) (1.13.1)\n",
            "Requirement already satisfied: huggingface-hub>=0.15.1 in /usr/local/lib/python3.10/dist-packages (from sentence_transformers) (0.23.5)\n",
            "Requirement already satisfied: Pillow in /usr/local/lib/python3.10/dist-packages (from sentence_transformers) (9.4.0)\n",
            "Requirement already satisfied: filelock in /usr/local/lib/python3.10/dist-packages (from huggingface-hub>=0.15.1->sentence_transformers) (3.15.4)\n",
            "Requirement already satisfied: fsspec>=2023.5.0 in /usr/local/lib/python3.10/dist-packages (from huggingface-hub>=0.15.1->sentence_transformers) (2024.6.1)\n",
            "Requirement already satisfied: packaging>=20.9 in /usr/local/lib/python3.10/dist-packages (from huggingface-hub>=0.15.1->sentence_transformers) (24.1)\n",
            "Requirement already satisfied: pyyaml>=5.1 in /usr/local/lib/python3.10/dist-packages (from huggingface-hub>=0.15.1->sentence_transformers) (6.0.2)\n",
            "Requirement already satisfied: requests in /usr/local/lib/python3.10/dist-packages (from huggingface-hub>=0.15.1->sentence_transformers) (2.32.3)\n",
            "Requirement already satisfied: typing-extensions>=3.7.4.3 in /usr/local/lib/python3.10/dist-packages (from huggingface-hub>=0.15.1->sentence_transformers) (4.12.2)\n",
            "Requirement already satisfied: sympy in /usr/local/lib/python3.10/dist-packages (from torch>=1.11.0->sentence_transformers) (1.13.1)\n",
            "Requirement already satisfied: networkx in /usr/local/lib/python3.10/dist-packages (from torch>=1.11.0->sentence_transformers) (3.3)\n",
            "Requirement already satisfied: jinja2 in /usr/local/lib/python3.10/dist-packages (from torch>=1.11.0->sentence_transformers) (3.1.4)\n",
            "Collecting nvidia-cuda-nvrtc-cu12==12.1.105 (from torch>=1.11.0->sentence_transformers)\n",
            "  Using cached nvidia_cuda_nvrtc_cu12-12.1.105-py3-none-manylinux1_x86_64.whl.metadata (1.5 kB)\n",
            "Collecting nvidia-cuda-runtime-cu12==12.1.105 (from torch>=1.11.0->sentence_transformers)\n",
            "  Using cached nvidia_cuda_runtime_cu12-12.1.105-py3-none-manylinux1_x86_64.whl.metadata (1.5 kB)\n",
            "Collecting nvidia-cuda-cupti-cu12==12.1.105 (from torch>=1.11.0->sentence_transformers)\n",
            "  Using cached nvidia_cuda_cupti_cu12-12.1.105-py3-none-manylinux1_x86_64.whl.metadata (1.6 kB)\n",
            "Collecting nvidia-cudnn-cu12==8.9.2.26 (from torch>=1.11.0->sentence_transformers)\n",
            "  Using cached nvidia_cudnn_cu12-8.9.2.26-py3-none-manylinux1_x86_64.whl.metadata (1.6 kB)\n",
            "Collecting nvidia-cublas-cu12==12.1.3.1 (from torch>=1.11.0->sentence_transformers)\n",
            "  Using cached nvidia_cublas_cu12-12.1.3.1-py3-none-manylinux1_x86_64.whl.metadata (1.5 kB)\n",
            "Collecting nvidia-cufft-cu12==11.0.2.54 (from torch>=1.11.0->sentence_transformers)\n",
            "  Using cached nvidia_cufft_cu12-11.0.2.54-py3-none-manylinux1_x86_64.whl.metadata (1.5 kB)\n",
            "Collecting nvidia-curand-cu12==10.3.2.106 (from torch>=1.11.0->sentence_transformers)\n",
            "  Using cached nvidia_curand_cu12-10.3.2.106-py3-none-manylinux1_x86_64.whl.metadata (1.5 kB)\n",
            "Collecting nvidia-cusolver-cu12==11.4.5.107 (from torch>=1.11.0->sentence_transformers)\n",
            "  Using cached nvidia_cusolver_cu12-11.4.5.107-py3-none-manylinux1_x86_64.whl.metadata (1.6 kB)\n",
            "Collecting nvidia-cusparse-cu12==12.1.0.106 (from torch>=1.11.0->sentence_transformers)\n",
            "  Using cached nvidia_cusparse_cu12-12.1.0.106-py3-none-manylinux1_x86_64.whl.metadata (1.6 kB)\n",
            "Collecting nvidia-nccl-cu12==2.20.5 (from torch>=1.11.0->sentence_transformers)\n",
            "  Using cached nvidia_nccl_cu12-2.20.5-py3-none-manylinux2014_x86_64.whl.metadata (1.8 kB)\n",
            "Collecting nvidia-nvtx-cu12==12.1.105 (from torch>=1.11.0->sentence_transformers)\n",
            "  Using cached nvidia_nvtx_cu12-12.1.105-py3-none-manylinux1_x86_64.whl.metadata (1.7 kB)\n",
            "Requirement already satisfied: triton==2.3.1 in /usr/local/lib/python3.10/dist-packages (from torch>=1.11.0->sentence_transformers) (2.3.1)\n",
            "Collecting nvidia-nvjitlink-cu12 (from nvidia-cusolver-cu12==11.4.5.107->torch>=1.11.0->sentence_transformers)\n",
            "  Using cached nvidia_nvjitlink_cu12-12.6.20-py3-none-manylinux2014_x86_64.whl.metadata (1.5 kB)\n",
            "Requirement already satisfied: regex!=2019.12.17 in /usr/local/lib/python3.10/dist-packages (from transformers<5.0.0,>=4.34.0->sentence_transformers) (2024.5.15)\n",
            "Requirement already satisfied: safetensors>=0.4.1 in /usr/local/lib/python3.10/dist-packages (from transformers<5.0.0,>=4.34.0->sentence_transformers) (0.4.4)\n",
            "Requirement already satisfied: tokenizers<0.20,>=0.19 in /usr/local/lib/python3.10/dist-packages (from transformers<5.0.0,>=4.34.0->sentence_transformers) (0.19.1)\n",
            "Requirement already satisfied: joblib>=1.1.1 in /usr/local/lib/python3.10/dist-packages (from scikit-learn->sentence_transformers) (1.4.2)\n",
            "Requirement already satisfied: threadpoolctl>=2.0.0 in /usr/local/lib/python3.10/dist-packages (from scikit-learn->sentence_transformers) (3.5.0)\n",
            "Requirement already satisfied: MarkupSafe>=2.0 in /usr/local/lib/python3.10/dist-packages (from jinja2->torch>=1.11.0->sentence_transformers) (2.1.5)\n",
            "Requirement already satisfied: charset-normalizer<4,>=2 in /usr/local/lib/python3.10/dist-packages (from requests->huggingface-hub>=0.15.1->sentence_transformers) (3.3.2)\n",
            "Requirement already satisfied: idna<4,>=2.5 in /usr/local/lib/python3.10/dist-packages (from requests->huggingface-hub>=0.15.1->sentence_transformers) (3.7)\n",
            "Requirement already satisfied: urllib3<3,>=1.21.1 in /usr/local/lib/python3.10/dist-packages (from requests->huggingface-hub>=0.15.1->sentence_transformers) (2.0.7)\n",
            "Requirement already satisfied: certifi>=2017.4.17 in /usr/local/lib/python3.10/dist-packages (from requests->huggingface-hub>=0.15.1->sentence_transformers) (2024.7.4)\n",
            "Requirement already satisfied: mpmath<1.4,>=1.1.0 in /usr/local/lib/python3.10/dist-packages (from sympy->torch>=1.11.0->sentence_transformers) (1.3.0)\n",
            "Downloading sentence_transformers-3.0.1-py3-none-any.whl (227 kB)\n",
            "\u001b[2K   \u001b[90m━━━━━━━━━━━━━━━━━━━━━━━━━━━━━━━━━━━━━━━━\u001b[0m \u001b[32m227.1/227.1 kB\u001b[0m \u001b[31m2.8 MB/s\u001b[0m eta \u001b[36m0:00:00\u001b[0m\n",
            "\u001b[?25hUsing cached nvidia_cublas_cu12-12.1.3.1-py3-none-manylinux1_x86_64.whl (410.6 MB)\n",
            "Using cached nvidia_cuda_cupti_cu12-12.1.105-py3-none-manylinux1_x86_64.whl (14.1 MB)\n",
            "Using cached nvidia_cuda_nvrtc_cu12-12.1.105-py3-none-manylinux1_x86_64.whl (23.7 MB)\n",
            "Using cached nvidia_cuda_runtime_cu12-12.1.105-py3-none-manylinux1_x86_64.whl (823 kB)\n",
            "Using cached nvidia_cudnn_cu12-8.9.2.26-py3-none-manylinux1_x86_64.whl (731.7 MB)\n",
            "Using cached nvidia_cufft_cu12-11.0.2.54-py3-none-manylinux1_x86_64.whl (121.6 MB)\n",
            "Using cached nvidia_curand_cu12-10.3.2.106-py3-none-manylinux1_x86_64.whl (56.5 MB)\n",
            "Using cached nvidia_cusolver_cu12-11.4.5.107-py3-none-manylinux1_x86_64.whl (124.2 MB)\n",
            "Using cached nvidia_cusparse_cu12-12.1.0.106-py3-none-manylinux1_x86_64.whl (196.0 MB)\n",
            "Using cached nvidia_nccl_cu12-2.20.5-py3-none-manylinux2014_x86_64.whl (176.2 MB)\n",
            "Using cached nvidia_nvtx_cu12-12.1.105-py3-none-manylinux1_x86_64.whl (99 kB)\n",
            "Using cached nvidia_nvjitlink_cu12-12.6.20-py3-none-manylinux2014_x86_64.whl (19.7 MB)\n",
            "Installing collected packages: nvidia-nvtx-cu12, nvidia-nvjitlink-cu12, nvidia-nccl-cu12, nvidia-curand-cu12, nvidia-cufft-cu12, nvidia-cuda-runtime-cu12, nvidia-cuda-nvrtc-cu12, nvidia-cuda-cupti-cu12, nvidia-cublas-cu12, nvidia-cusparse-cu12, nvidia-cudnn-cu12, nvidia-cusolver-cu12, sentence_transformers\n",
            "Successfully installed nvidia-cublas-cu12-12.1.3.1 nvidia-cuda-cupti-cu12-12.1.105 nvidia-cuda-nvrtc-cu12-12.1.105 nvidia-cuda-runtime-cu12-12.1.105 nvidia-cudnn-cu12-8.9.2.26 nvidia-cufft-cu12-11.0.2.54 nvidia-curand-cu12-10.3.2.106 nvidia-cusolver-cu12-11.4.5.107 nvidia-cusparse-cu12-12.1.0.106 nvidia-nccl-cu12-2.20.5 nvidia-nvjitlink-cu12-12.6.20 nvidia-nvtx-cu12-12.1.105 sentence_transformers-3.0.1\n"
          ]
        }
      ]
    },
    {
      "cell_type": "markdown",
      "source": [
        "#import thư viện"
      ],
      "metadata": {
        "id": "ZbnwSmFla7Sc"
      }
    },
    {
      "cell_type": "code",
      "source": [
        "from sklearn.svm import SVR# mô hình chạy thử\n",
        "import pandas as pd# lấy dữ liệu\n",
        "import numpy as np # tính toán\n",
        "import matplotlib.pyplot as plt # vẽ đồ thị\n",
        "from sentence_transformers import SentenceTransformer # Doc2Vec với dữ liệu dùng để kiểm thử\n",
        "from sklearn.cluster import KMeans # Clustering\n",
        "from sklearn.model_selection import train_test_split # Chia dữ liệu\n",
        "from sklearn.model_selection import cross_val_score, KFold # đánh giá mô hình\n",
        "from sklearn.metrics import accuracy_score # đánh giá mô hình\n",
        "import re # tiền xử lý\n",
        "import string # tiền xử lý\n",
        "from sklearn.decomposition import PCA # giảm chiều dữ liệu\n",
        "from scipy.spatial.distance import pdist, squareform # Tìm tâm cụm\n",
        "from sklearn.metrics.pairwise import euclidean_distances #tính khoảng cách đầu vào và so sánh với tâm cụm\n",
        "from sklearn.svm import OneClassSVM # Phân loại\n",
        "from sklearn.feature_extraction.text import TfidfVectorizer # Tính tfidf\n",
        "import joblib\n",
        "import warnings # ngăn cảnh báo vô hại"
      ],
      "metadata": {
        "colab": {
          "base_uri": "https://localhost:8080/"
        },
        "id": "6sjZr1aqa7GV",
        "outputId": "6ef706c7-974d-4d79-ff18-4a90240e74da"
      },
      "execution_count": 2,
      "outputs": [
        {
          "output_type": "stream",
          "name": "stderr",
          "text": [
            "/usr/local/lib/python3.10/dist-packages/sentence_transformers/cross_encoder/CrossEncoder.py:11: TqdmExperimentalWarning: Using `tqdm.autonotebook.tqdm` in notebook mode. Use `tqdm.tqdm` instead to force console mode (e.g. in jupyter console)\n",
            "  from tqdm.autonotebook import tqdm, trange\n"
          ]
        }
      ]
    },
    {
      "cell_type": "markdown",
      "source": [
        "#Hàm"
      ],
      "metadata": {
        "id": "-chsJnlkaow9"
      }
    },
    {
      "cell_type": "code",
      "source": [
        "vietnamese_stop_words = [\n",
        "              'là', 'và', 'có', 'trên', 'cho', 'một', 'các', 'được', 'như', 'với',\n",
        "              'của', 'ở', 'khi', 'đã', 'còn', 'thì', 'này', 'bởi', 'đó', 'để', 'năm',\n",
        "              'ngày', 'vào', 'sau', 'tại', 'trong', 'rằng', 'đến', 'từ'\n",
        "              ]"
      ],
      "metadata": {
        "id": "jVOuwTx6a2eL"
      },
      "execution_count": 36,
      "outputs": []
    },
    {
      "cell_type": "code",
      "source": [
        "pca = PCA(n_components=2)"
      ],
      "metadata": {
        "id": "StV3nKvbsGfM"
      },
      "execution_count": 37,
      "outputs": []
    },
    {
      "cell_type": "code",
      "source": [
        "model = SentenceTransformer('/content/drive/MyDrive/SIC/model_doc2vec')"
      ],
      "metadata": {
        "id": "JP3sCzu4a3dt"
      },
      "execution_count": 38,
      "outputs": []
    },
    {
      "cell_type": "code",
      "source": [
        "model_kmeans = joblib.load('/content/drive/MyDrive/SIC/kmeans_model.pkl')"
      ],
      "metadata": {
        "id": "C0A8WqH2a4lT"
      },
      "execution_count": 39,
      "outputs": []
    },
    {
      "cell_type": "code",
      "source": [
        "#Hàm làm sạch dữ liệu <nên dùng trước khi vector hoá dữ liệu>\n",
        "def convertData(text):\n",
        "  text = text.lower()\n",
        "  text = re.sub('\\[.*?\\]','',text)\n",
        "  text = re.sub(\"\\\\W\",\" \",text)\n",
        "  text = re.sub('https?://\\S+|www\\.\\S+','',text)\n",
        "  text = re.sub('<.*?>+',b'',text)\n",
        "  text = re.sub('[%s]' % re.escape(string.punctuation),'',text)\n",
        "  text = re.sub('\\w*\\d\\w*','',text)\n",
        "  text = re.sub(' +', ' ',text)\n",
        "  text = text.strip()\n",
        "  text = ' '.join([word for word in text.split() if word not in vietnamese_stop_words])\n",
        "  return text"
      ],
      "metadata": {
        "id": "ZqLPFH-4azWD"
      },
      "execution_count": 40,
      "outputs": []
    },
    {
      "cell_type": "markdown",
      "source": [
        "<h2>Cosine_similarity"
      ],
      "metadata": {
        "id": "2IydxwjDsmK1"
      }
    },
    {
      "cell_type": "code",
      "source": [
        "#Hàm tính độ đo cosine\n",
        "def cosine_similarity(x_vec,y_vec):\n",
        "  cosine_similarities = []\n",
        "  for i in range(x_vec.shape[0]):\n",
        "    cos_sim = (x_vec[i] * y_vec.T).toarray().squeeze()\n",
        "    cosine_similarities.append(cos_sim)\n",
        "  return cosine_similarities"
      ],
      "metadata": {
        "id": "Y2Q2w-DAar8l"
      },
      "execution_count": 41,
      "outputs": []
    },
    {
      "cell_type": "code",
      "source": [
        "#Hàm kiểm thử cho đánh giá độ tương đồng Cosine\n",
        "def Cosine_sml(lt):\n",
        "  for i in range(len(data_test)):\n",
        "    content = [convertData(txt) for txt in data_test[i]['Content']]\n",
        "    vectors_content = vectorizer.transform(content)\n",
        "    cosine_similarities = cosine_similarity(vectors_content,real_vectors)\n",
        "    danhgia_r = 0\n",
        "    danhgia_fir = 0\n",
        "    for idx, x in enumerate(cosine_similarities):\n",
        "      if x.max() > 0.5:\n",
        "        danhgia_r +=1\n",
        "        if idx >= len_real[i]:\n",
        "          danhgia_fir +=1\n",
        "    print(f'Số lượng tin có khả năng là thật của data_test{i} : {danhgia_r}')\n",
        "    print(f\"Tỉ lệ tin có khả năng là thật data_test{i}: {(danhgia_r)/(len(data_test[i]))}\")\n",
        "    print(f'Độ chênh lệch giữa dự đoán và kết quả số tin thật: {abs(danhgia_r - len_real[i])}')\n",
        "    print(f\"Độ chính xác trong việc dự đoán tin giả data_test{i}: { 1 - (danhgia_fir/(len(data_test[i])-len_real[1] )) } \")\n",
        "    lt.append(1 - (danhgia_fir/(len(data_test[i])-len_real[1] )))\n",
        "    print('_____________________________________________________________________________________')\n",
        "  return lt"
      ],
      "metadata": {
        "id": "x3E0L7_Fpvjs"
      },
      "execution_count": 42,
      "outputs": []
    },
    {
      "cell_type": "markdown",
      "source": [
        "<h2> Kmeans </h2>"
      ],
      "metadata": {
        "id": "zPwL_ZB-spN8"
      }
    },
    {
      "cell_type": "code",
      "source": [
        "#hàm này tính ngưỡng cho Kmeans\n",
        "def caculate_thresholds(model, data, cluster_numb):\n",
        "  ans = []\n",
        "  data = pca.fit_transform(data)\n",
        "  if cluster_numb > model.n_clusters or cluster_numb == None:\n",
        "    return None\n",
        "  for i in range(model.n_clusters):\n",
        "    cluster_ = data[model.labels_ == i]\n",
        "    distance = model.transform(cluster_)\n",
        "    min_distance = distance.min(axis=1)\n",
        "    max_distance = distance.max(axis=1)\n",
        "    threshold = (max_distance.sum()/len(max_distance)) - (min_distance.sum()/len(min_distance))\n",
        "    ans.append(threshold)\n",
        "  return ans"
      ],
      "metadata": {
        "id": "pSwRz6CVrYR3"
      },
      "execution_count": 85,
      "outputs": []
    },
    {
      "cell_type": "code",
      "source": [
        "#Hàm dùng của Kmeans\n",
        "def isTrue(text):\n",
        "  # list_test.append(text)# nhằm lưu lại các text đã dùng\n",
        "  propress_text = convertData(text)\n",
        "  ebd_text = model.encode(propress_text)\n",
        "  ebd_text = pca.transform(ebd_text.reshape(1,-1))#.reshape(1,-1)\n",
        "  toadoy = ebd_text[0][1]\n",
        "  toadox = ebd_text[0][0]\n",
        "  canhhuyen = np.sqrt(toadox**2 + toadoy**2)\n",
        "  if canhhuyen > ths[0]:\n",
        "    return False\n",
        "  else:\n",
        "    return True"
      ],
      "metadata": {
        "id": "wp4ZRz1MavTc"
      },
      "execution_count": 86,
      "outputs": []
    },
    {
      "cell_type": "code",
      "source": [
        "def Kmeans_danhgia(lt_km, data_test):\n",
        "  warnings.filterwarnings(\"ignore\", message=\"X does not have valid feature names, but PCA was fitted with feature names\")\n",
        "\n",
        "  for idx,i in enumerate(data_test):\n",
        "    dem = 0\n",
        "    fake_in_real = 0\n",
        "    for id,j in enumerate(i['Content']):\n",
        "      if isTrue(j):\n",
        "        if id >= len_real[idx]:\n",
        "          fake_in_real += 1\n",
        "        dem+=1\n",
        "    print(f'Số lượng tin có khả năng là thật được phát hiện data_test{idx} : {dem}')\n",
        "    print(f'Số lượng tin bị đánh giá sai : {fake_in_real}')\n",
        "    print(f\"Tỉ số tin có khả năng là thật trong data_test{idx}: {(dem)/300}\")\n",
        "    print(f\"Tỉ số phát hiện tin giả trong số lượng tin thật được dự đoán của data_test{idx}: {fake_in_real/(300-len_real[idx])}\")\n",
        "    print(f'Độ chính xác: {1-(fake_in_real/(300-len_real[idx]))}')\n",
        "    print('_______________________________________________________________')\n",
        "    lt_km.append(1-(fake_in_real/(300-len_real[idx])))# tỉ lệ đoán được tin có khả năng là giả"
      ],
      "metadata": {
        "id": "XDMlZYaIqhLN"
      },
      "execution_count": 87,
      "outputs": []
    },
    {
      "cell_type": "code",
      "source": [
        "def trucquanhoa_Kmeans(data,model_kmeans, ebd_text):\n",
        "\n",
        "  plt.figure(figsize=(10, 6))\n",
        "\n",
        "  plt.scatter(data[:,0], data[:, 1], c=model_kmeans.labels_, cmap='cividis')\n",
        "  plt.scatter(centroids[:,0],centroids[:,1],marker='+',color='red',s=100)# s là kích thước của tất cả các điểm centroids, đặt 100 để chúng trở nên nổi bật hơn\n",
        "  plt.scatter(centroid[0][0],centroid[1][1],marker='o',color='red',s=130)\n",
        "  plt.scatter(ebd_text[0][0],ebd_text[0][1]+centroid[1][1],marker='o',color='blue',s=20)\n",
        "  #\n",
        "  #tìm ra ngưỡng thích hợp làm ngưỡng chung\n",
        "  circle = plt.Circle((centroid [0][0],centroid[1][1]), radius=ths[0], color='red', fill=False, linestyle='--')\n",
        "  plt.gca().add_patch(circle)\n",
        "\n",
        "\n",
        "  ##Vẽ đồ thị để hình dung cách tính khoảng cách\n",
        "\n",
        "  plt.axvline(x=centroid[0][0], color='r', linestyle='-')\n",
        "  plt.axhline(y=centroid[1][1],color='blue')\n",
        "\n",
        "  plt.axhline(y=ebd_text[0][1]+centroid[1][1],color='black')\n",
        "  plt.axvline(x=ebd_text[0][0], color='r', linestyle='-')\n",
        "  # plt.axhline(y=ths[0] + centroid[1][1],color='blue')\n",
        "  # plt.axvline(x=0, color='gray', linestyle='--')\n",
        "  # plt.axhline(y=0, color='gray', linestyle='--')\n",
        "\n",
        "  plt.xlabel('Feature 1')\n",
        "  plt.ylabel('Feature 2')\n",
        "  plt.title('K-means Clustering')\n",
        "  plt.show()"
      ],
      "metadata": {
        "id": "ml9deY4Cr2AP"
      },
      "execution_count": 88,
      "outputs": []
    },
    {
      "cell_type": "markdown",
      "source": [
        "#Gọi dữ liệu test"
      ],
      "metadata": {
        "id": "wbI66v_neSve"
      }
    },
    {
      "cell_type": "code",
      "source": [
        "#Tập dữ liệu gốc ~ dùng với độ đo cosine\n",
        "real_news = pd.read_csv('/content/drive/MyDrive/Data_/Data_test_300/DATA_.csv')\n",
        "# 5 tập test\n",
        "data_test0 = pd.read_csv(\"/content/drive/MyDrive/Data_/Data_test_300/data_test_114_.csv\")\n",
        "data_test1 = pd.read_csv(\"/content/drive/MyDrive/Data_/Data_test_300/data_test_140_.csv\")\n",
        "data_test2 = pd.read_csv(\"/content/drive/MyDrive/Data_/Data_test_300/data_test_155_.csv\")\n",
        "data_test3 = pd.read_csv(\"/content/drive/MyDrive/Data_/Data_test_300/data_test_166_.csv\")\n",
        "data_test4 = pd.read_csv(\"/content/drive/MyDrive/Data_/Data_test_300/data_test_200_.csv\")\n",
        "real_news.drop(columns=['Unnamed: 0'],inplace=True)\n",
        "data_test0.drop(columns=['Unnamed: 0'],inplace=True)\n",
        "data_test1.drop(columns=['Unnamed: 0'],inplace=True)\n",
        "data_test2.drop(columns=['Unnamed: 0'],inplace=True)\n",
        "data_test3.drop(columns=['Unnamed: 0'],inplace=True)\n",
        "data_test4.drop(columns=['Unnamed: 0'],inplace=True)\n",
        "data_test = [data_test0,data_test1,data_test2,data_test3,data_test4]\n",
        "len_real = [114,140,155,166,200]"
      ],
      "metadata": {
        "id": "lZrNj4xseSH0"
      },
      "execution_count": 10,
      "outputs": []
    },
    {
      "cell_type": "markdown",
      "source": [
        "#Độ tương đồng Cosine"
      ],
      "metadata": {
        "id": "ICP1z9Hrwr2l"
      }
    },
    {
      "cell_type": "code",
      "source": [
        "vectorizer = TfidfVectorizer(max_features=3500)#max_features để 3500 để tránh tình trạng data_test không đủ feature với real_news\n",
        "real_vectors = vectorizer.fit_transform(real_news['Content'])"
      ],
      "metadata": {
        "id": "DRsjzAhVhc3_"
      },
      "execution_count": 11,
      "outputs": []
    },
    {
      "cell_type": "code",
      "source": [
        "lt = list()# để lưu kết quả test\n",
        "lt_km = list()"
      ],
      "metadata": {
        "id": "oOX8E1MPpVvD"
      },
      "execution_count": 28,
      "outputs": []
    },
    {
      "cell_type": "code",
      "source": [
        "Cosine_sml(lt)#"
      ],
      "metadata": {
        "colab": {
          "base_uri": "https://localhost:8080/"
        },
        "id": "yGTYknZbkKUh",
        "outputId": "eb037dbb-ce80-429b-e15c-3cb8fec9bdd4"
      },
      "execution_count": 29,
      "outputs": [
        {
          "output_type": "stream",
          "name": "stdout",
          "text": [
            "Số lượng tin có khả năng là thật của data_test0 : 121\n",
            "Tỉ lệ tin có khả năng là thật data_test0: 0.4033333333333333\n",
            "Độ chênh lệch giữa dự đoán và kết quả số tin thật: 7\n",
            "Độ chính xác trong việc dự đoán tin giả data_test0: 0.95625 \n",
            "_____________________________________________________________________________________\n",
            "Số lượng tin có khả năng là thật của data_test1 : 146\n",
            "Tỉ lệ tin có khả năng là thật data_test1: 0.4866666666666667\n",
            "Độ chênh lệch giữa dự đoán và kết quả số tin thật: 6\n",
            "Độ chính xác trong việc dự đoán tin giả data_test1: 0.9625 \n",
            "_____________________________________________________________________________________\n",
            "Số lượng tin có khả năng là thật của data_test2 : 160\n",
            "Tỉ lệ tin có khả năng là thật data_test2: 0.5333333333333333\n",
            "Độ chênh lệch giữa dự đoán và kết quả số tin thật: 5\n",
            "Độ chính xác trong việc dự đoán tin giả data_test2: 0.96875 \n",
            "_____________________________________________________________________________________\n",
            "Số lượng tin có khả năng là thật của data_test3 : 170\n",
            "Tỉ lệ tin có khả năng là thật data_test3: 0.5666666666666667\n",
            "Độ chênh lệch giữa dự đoán và kết quả số tin thật: 4\n",
            "Độ chính xác trong việc dự đoán tin giả data_test3: 0.975 \n",
            "_____________________________________________________________________________________\n",
            "Số lượng tin có khả năng là thật của data_test4 : 205\n",
            "Tỉ lệ tin có khả năng là thật data_test4: 0.6833333333333333\n",
            "Độ chênh lệch giữa dự đoán và kết quả số tin thật: 5\n",
            "Độ chính xác trong việc dự đoán tin giả data_test4: 0.96875 \n",
            "_____________________________________________________________________________________\n"
          ]
        },
        {
          "output_type": "execute_result",
          "data": {
            "text/plain": [
              "[0.95625, 0.9625, 0.96875, 0.975, 0.96875]"
            ]
          },
          "metadata": {},
          "execution_count": 29
        }
      ]
    },
    {
      "cell_type": "markdown",
      "source": [
        "#Kmeans"
      ],
      "metadata": {
        "id": "PnbepRfXsXPT"
      }
    },
    {
      "cell_type": "code",
      "source": [
        "data = pd.read_csv('/content/drive/MyDrive/SIC/Embeddings_DATA.csv')\n",
        "data.drop(columns=['Unnamed: 0'],inplace=True)"
      ],
      "metadata": {
        "id": "1-BhI5cKtEaX"
      },
      "execution_count": 51,
      "outputs": []
    },
    {
      "cell_type": "code",
      "source": [
        "pca = PCA(n_components=2)\n",
        "data = pca.fit_transform(data)"
      ],
      "metadata": {
        "id": "l0j14RqSvtZR"
      },
      "execution_count": 82,
      "outputs": []
    },
    {
      "cell_type": "code",
      "source": [
        "# Công đoạn tìm tâm cụm\n",
        "centroids = model_kmeans.cluster_centers_\n",
        "# với 4 cụm ta tìm x giữa 2 cụm xa nhau theo trục x và 2 cụm theo trục y\n",
        "cs1 = centroids[0]\n",
        "cs2 = centroids[1]\n",
        "cs3 = centroids[2]\n",
        "cs4 = centroids[3]\n",
        "centroid_x = (cs1 + cs2)/2\n",
        "centroid_y = (cs3 + cs4)/2\n",
        "centroid = np.array([centroid_x,centroid_y])"
      ],
      "metadata": {
        "id": "6oGK3hOGsU4s"
      },
      "execution_count": 47,
      "outputs": []
    },
    {
      "cell_type": "code",
      "source": [
        "#Công đoạn tính ngưỡng cho từng cụm\n",
        "for i in range(model_kmeans.n_clusters):\n",
        "  ths = caculate_thresholds(model_kmeans, data, model_kmeans.n_clusters)\n",
        ""
      ],
      "metadata": {
        "id": "x-ucwrAMsRPz"
      },
      "execution_count": 56,
      "outputs": []
    },
    {
      "cell_type": "code",
      "source": [
        "Kmeans_danhgia(lt_km,data_test)"
      ],
      "metadata": {
        "colab": {
          "base_uri": "https://localhost:8080/"
        },
        "id": "j3sSNeOyqj26",
        "outputId": "3fad25e8-ce85-47aa-d934-744e777bac82"
      },
      "execution_count": 89,
      "outputs": [
        {
          "output_type": "stream",
          "name": "stdout",
          "text": [
            "Số lượng tin có khả năng là thật được phát hiện data_test0 : 209\n",
            "Số lượng tin bị đánh giá sai : 107\n",
            "Tỉ số tin có khả năng là thật trong data_test0: 0.6966666666666667\n",
            "Tỉ số phát hiện tin giả trong số lượng tin thật được dự đoán của data_test0: 0.5752688172043011\n",
            "Độ chính xác: 0.4247311827956989\n",
            "_______________________________________________________________\n",
            "Số lượng tin có khả năng là thật được phát hiện data_test1 : 219\n",
            "Số lượng tin bị đánh giá sai : 97\n",
            "Tỉ số tin có khả năng là thật trong data_test1: 0.73\n",
            "Tỉ số phát hiện tin giả trong số lượng tin thật được dự đoán của data_test1: 0.60625\n",
            "Độ chính xác: 0.39375000000000004\n",
            "_______________________________________________________________\n",
            "Số lượng tin có khả năng là thật được phát hiện data_test2 : 221\n",
            "Số lượng tin bị đánh giá sai : 87\n",
            "Tỉ số tin có khả năng là thật trong data_test2: 0.7366666666666667\n",
            "Tỉ số phát hiện tin giả trong số lượng tin thật được dự đoán của data_test2: 0.6\n",
            "Độ chính xác: 0.4\n",
            "_______________________________________________________________\n",
            "Số lượng tin có khả năng là thật được phát hiện data_test3 : 219\n",
            "Số lượng tin bị đánh giá sai : 75\n",
            "Tỉ số tin có khả năng là thật trong data_test3: 0.73\n",
            "Tỉ số phát hiện tin giả trong số lượng tin thật được dự đoán của data_test3: 0.5597014925373134\n",
            "Độ chính xác: 0.4402985074626866\n",
            "_______________________________________________________________\n",
            "Số lượng tin có khả năng là thật được phát hiện data_test4 : 233\n",
            "Số lượng tin bị đánh giá sai : 53\n",
            "Tỉ số tin có khả năng là thật trong data_test4: 0.7766666666666666\n",
            "Tỉ số phát hiện tin giả trong số lượng tin thật được dự đoán của data_test4: 0.53\n",
            "Độ chính xác: 0.47\n",
            "_______________________________________________________________\n"
          ]
        }
      ]
    },
    {
      "cell_type": "code",
      "source": [
        "plt.figure(figsize=(10, 6))\n",
        "\n",
        "plt.bar(['data_test0','data_test1','data_test2','data_test3','data_test4'],lt)\n",
        "plt.bar(['data_test0','data_test1','data_test2','data_test3','data_test4'],lt_km)\n",
        "plt.xticks(rotation=45)\n",
        "plt.ylim(0,1)\n",
        "plt.xlabel('Số Lượng')\n",
        "plt.ylabel('Tỉ số')\n",
        "plt.legend(['Cosine','Kmeans'])\n",
        "plt.title('Đánh giá')\n",
        "plt.show()"
      ],
      "metadata": {
        "colab": {
          "base_uri": "https://localhost:8080/",
          "height": 615
        },
        "id": "wL9IBY1qoYtU",
        "outputId": "24e89442-9980-4083-8094-fe15744d4048"
      },
      "execution_count": 91,
      "outputs": [
        {
          "output_type": "display_data",
          "data": {
            "text/plain": [
              "<Figure size 1000x600 with 1 Axes>"
            ],
            "image/png": "[encoded data removed]"
          },
          "metadata": {}
        }
      ]
    }
  ]
}