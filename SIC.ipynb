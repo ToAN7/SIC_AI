{
  "nbformat": 4,
  "nbformat_minor": 0,
  "metadata": {
    "colab": {
      "provenance": [],
      "collapsed_sections": [
        "ZbnwSmFla7Sc"
      ],
      "toc_visible": true,
      "mount_file_id": "1TVwLBqum7zTHqHLSZijprFJ7pvby6_JC",
      "authorship_tag": "ABX9TyOCYtzl5mmmVaq4zn1szZ+N",
      "include_colab_link": true
    },
    "kernelspec": {
      "name": "python3",
      "display_name": "Python 3"
    },
    "language_info": {
      "name": "python"
    }
  },
  "cells": [
    {
      "cell_type": "markdown",
      "metadata": {
        "id": "view-in-github",
        "colab_type": "text"
      },
      "source": [
        "<a href=\"https://colab.research.google.com/github/ToAN7/SIC_AI/blob/TrongKha_/SIC.ipynb\" target=\"_parent\"><img src=\"https://colab.research.google.com/assets/colab-badge.svg\" alt=\"Open In Colab\"/></a>"
      ]
    },
    {
      "cell_type": "code",
      "source": [
        "from google.colab import drive\n",
        "drive.mount('/content/drive')"
      ],
      "metadata": {
        "id": "PiXh1xeoTm4q",
        "colab": {
          "base_uri": "https://localhost:8080/"
        },
        "outputId": "dc4edafd-81e4-4c76-c5d2-748dfc22caae"
      },
      "execution_count": null,
      "outputs": [
        {
          "output_type": "stream",
          "name": "stdout",
          "text": [
            "Drive already mounted at /content/drive; to attempt to forcibly remount, call drive.mount(\"/content/drive\", force_remount=True).\n"
          ]
        }
      ]
    },
    {
      "cell_type": "code",
      "source": [
        "!pip install sentence_transformers"
      ],
      "metadata": {
        "id": "jWmVM1gPbAsM",
        "colab": {
          "base_uri": "https://localhost:8080/"
        },
        "outputId": "b142a0d0-3bd4-45a6-92b0-dd8a3fa81cfd"
      },
      "execution_count": null,
      "outputs": [
        {
          "output_type": "stream",
          "name": "stdout",
          "text": [
            "Collecting sentence_transformers\n",
            "  Downloading sentence_transformers-3.0.1-py3-none-any.whl.metadata (10 kB)\n",
            "Requirement already satisfied: transformers<5.0.0,>=4.34.0 in /usr/local/lib/python3.10/dist-packages (from sentence_transformers) (4.42.4)\n",
            "Requirement already satisfied: tqdm in /usr/local/lib/python3.10/dist-packages (from sentence_transformers) (4.66.5)\n",
            "Requirement already satisfied: torch>=1.11.0 in /usr/local/lib/python3.10/dist-packages (from sentence_transformers) (2.3.1+cu121)\n",
            "Requirement already satisfied: numpy in /usr/local/lib/python3.10/dist-packages (from sentence_transformers) (1.26.4)\n",
            "Requirement already satisfied: scikit-learn in /usr/local/lib/python3.10/dist-packages (from sentence_transformers) (1.3.2)\n",
            "Requirement already satisfied: scipy in /usr/local/lib/python3.10/dist-packages (from sentence_transformers) (1.13.1)\n",
            "Requirement already satisfied: huggingface-hub>=0.15.1 in /usr/local/lib/python3.10/dist-packages (from sentence_transformers) (0.23.5)\n",
            "Requirement already satisfied: Pillow in /usr/local/lib/python3.10/dist-packages (from sentence_transformers) (9.4.0)\n",
            "Requirement already satisfied: filelock in /usr/local/lib/python3.10/dist-packages (from huggingface-hub>=0.15.1->sentence_transformers) (3.15.4)\n",
            "Requirement already satisfied: fsspec>=2023.5.0 in /usr/local/lib/python3.10/dist-packages (from huggingface-hub>=0.15.1->sentence_transformers) (2024.6.1)\n",
            "Requirement already satisfied: packaging>=20.9 in /usr/local/lib/python3.10/dist-packages (from huggingface-hub>=0.15.1->sentence_transformers) (24.1)\n",
            "Requirement already satisfied: pyyaml>=5.1 in /usr/local/lib/python3.10/dist-packages (from huggingface-hub>=0.15.1->sentence_transformers) (6.0.2)\n",
            "Requirement already satisfied: requests in /usr/local/lib/python3.10/dist-packages (from huggingface-hub>=0.15.1->sentence_transformers) (2.32.3)\n",
            "Requirement already satisfied: typing-extensions>=3.7.4.3 in /usr/local/lib/python3.10/dist-packages (from huggingface-hub>=0.15.1->sentence_transformers) (4.12.2)\n",
            "Requirement already satisfied: sympy in /usr/local/lib/python3.10/dist-packages (from torch>=1.11.0->sentence_transformers) (1.13.1)\n",
            "Requirement already satisfied: networkx in /usr/local/lib/python3.10/dist-packages (from torch>=1.11.0->sentence_transformers) (3.3)\n",
            "Requirement already satisfied: jinja2 in /usr/local/lib/python3.10/dist-packages (from torch>=1.11.0->sentence_transformers) (3.1.4)\n",
            "Collecting nvidia-cuda-nvrtc-cu12==12.1.105 (from torch>=1.11.0->sentence_transformers)\n",
            "  Using cached nvidia_cuda_nvrtc_cu12-12.1.105-py3-none-manylinux1_x86_64.whl.metadata (1.5 kB)\n",
            "Collecting nvidia-cuda-runtime-cu12==12.1.105 (from torch>=1.11.0->sentence_transformers)\n",
            "  Using cached nvidia_cuda_runtime_cu12-12.1.105-py3-none-manylinux1_x86_64.whl.metadata (1.5 kB)\n",
            "Collecting nvidia-cuda-cupti-cu12==12.1.105 (from torch>=1.11.0->sentence_transformers)\n",
            "  Using cached nvidia_cuda_cupti_cu12-12.1.105-py3-none-manylinux1_x86_64.whl.metadata (1.6 kB)\n",
            "Collecting nvidia-cudnn-cu12==8.9.2.26 (from torch>=1.11.0->sentence_transformers)\n",
            "  Using cached nvidia_cudnn_cu12-8.9.2.26-py3-none-manylinux1_x86_64.whl.metadata (1.6 kB)\n",
            "Collecting nvidia-cublas-cu12==12.1.3.1 (from torch>=1.11.0->sentence_transformers)\n",
            "  Using cached nvidia_cublas_cu12-12.1.3.1-py3-none-manylinux1_x86_64.whl.metadata (1.5 kB)\n",
            "Collecting nvidia-cufft-cu12==11.0.2.54 (from torch>=1.11.0->sentence_transformers)\n",
            "  Using cached nvidia_cufft_cu12-11.0.2.54-py3-none-manylinux1_x86_64.whl.metadata (1.5 kB)\n",
            "Collecting nvidia-curand-cu12==10.3.2.106 (from torch>=1.11.0->sentence_transformers)\n",
            "  Using cached nvidia_curand_cu12-10.3.2.106-py3-none-manylinux1_x86_64.whl.metadata (1.5 kB)\n",
            "Collecting nvidia-cusolver-cu12==11.4.5.107 (from torch>=1.11.0->sentence_transformers)\n",
            "  Using cached nvidia_cusolver_cu12-11.4.5.107-py3-none-manylinux1_x86_64.whl.metadata (1.6 kB)\n",
            "Collecting nvidia-cusparse-cu12==12.1.0.106 (from torch>=1.11.0->sentence_transformers)\n",
            "  Using cached nvidia_cusparse_cu12-12.1.0.106-py3-none-manylinux1_x86_64.whl.metadata (1.6 kB)\n",
            "Collecting nvidia-nccl-cu12==2.20.5 (from torch>=1.11.0->sentence_transformers)\n",
            "  Using cached nvidia_nccl_cu12-2.20.5-py3-none-manylinux2014_x86_64.whl.metadata (1.8 kB)\n",
            "Collecting nvidia-nvtx-cu12==12.1.105 (from torch>=1.11.0->sentence_transformers)\n",
            "  Using cached nvidia_nvtx_cu12-12.1.105-py3-none-manylinux1_x86_64.whl.metadata (1.7 kB)\n",
            "Requirement already satisfied: triton==2.3.1 in /usr/local/lib/python3.10/dist-packages (from torch>=1.11.0->sentence_transformers) (2.3.1)\n",
            "Collecting nvidia-nvjitlink-cu12 (from nvidia-cusolver-cu12==11.4.5.107->torch>=1.11.0->sentence_transformers)\n",
            "  Using cached nvidia_nvjitlink_cu12-12.6.20-py3-none-manylinux2014_x86_64.whl.metadata (1.5 kB)\n",
            "Requirement already satisfied: regex!=2019.12.17 in /usr/local/lib/python3.10/dist-packages (from transformers<5.0.0,>=4.34.0->sentence_transformers) (2024.5.15)\n",
            "Requirement already satisfied: safetensors>=0.4.1 in /usr/local/lib/python3.10/dist-packages (from transformers<5.0.0,>=4.34.0->sentence_transformers) (0.4.4)\n",
            "Requirement already satisfied: tokenizers<0.20,>=0.19 in /usr/local/lib/python3.10/dist-packages (from transformers<5.0.0,>=4.34.0->sentence_transformers) (0.19.1)\n",
            "Requirement already satisfied: joblib>=1.1.1 in /usr/local/lib/python3.10/dist-packages (from scikit-learn->sentence_transformers) (1.4.2)\n",
            "Requirement already satisfied: threadpoolctl>=2.0.0 in /usr/local/lib/python3.10/dist-packages (from scikit-learn->sentence_transformers) (3.5.0)\n",
            "Requirement already satisfied: MarkupSafe>=2.0 in /usr/local/lib/python3.10/dist-packages (from jinja2->torch>=1.11.0->sentence_transformers) (2.1.5)\n",
            "Requirement already satisfied: charset-normalizer<4,>=2 in /usr/local/lib/python3.10/dist-packages (from requests->huggingface-hub>=0.15.1->sentence_transformers) (3.3.2)\n",
            "Requirement already satisfied: idna<4,>=2.5 in /usr/local/lib/python3.10/dist-packages (from requests->huggingface-hub>=0.15.1->sentence_transformers) (3.7)\n",
            "Requirement already satisfied: urllib3<3,>=1.21.1 in /usr/local/lib/python3.10/dist-packages (from requests->huggingface-hub>=0.15.1->sentence_transformers) (2.0.7)\n",
            "Requirement already satisfied: certifi>=2017.4.17 in /usr/local/lib/python3.10/dist-packages (from requests->huggingface-hub>=0.15.1->sentence_transformers) (2024.7.4)\n",
            "Requirement already satisfied: mpmath<1.4,>=1.1.0 in /usr/local/lib/python3.10/dist-packages (from sympy->torch>=1.11.0->sentence_transformers) (1.3.0)\n",
            "Downloading sentence_transformers-3.0.1-py3-none-any.whl (227 kB)\n",
            "\u001b[2K   \u001b[90m━━━━━━━━━━━━━━━━━━━━━━━━━━━━━━━━━━━━━━━━\u001b[0m \u001b[32m227.1/227.1 kB\u001b[0m \u001b[31m1.6 MB/s\u001b[0m eta \u001b[36m0:00:00\u001b[0m\n",
            "\u001b[?25hUsing cached nvidia_cublas_cu12-12.1.3.1-py3-none-manylinux1_x86_64.whl (410.6 MB)\n",
            "Using cached nvidia_cuda_cupti_cu12-12.1.105-py3-none-manylinux1_x86_64.whl (14.1 MB)\n",
            "Using cached nvidia_cuda_nvrtc_cu12-12.1.105-py3-none-manylinux1_x86_64.whl (23.7 MB)\n",
            "Using cached nvidia_cuda_runtime_cu12-12.1.105-py3-none-manylinux1_x86_64.whl (823 kB)\n",
            "Using cached nvidia_cudnn_cu12-8.9.2.26-py3-none-manylinux1_x86_64.whl (731.7 MB)\n",
            "Using cached nvidia_cufft_cu12-11.0.2.54-py3-none-manylinux1_x86_64.whl (121.6 MB)\n",
            "Using cached nvidia_curand_cu12-10.3.2.106-py3-none-manylinux1_x86_64.whl (56.5 MB)\n",
            "Using cached nvidia_cusolver_cu12-11.4.5.107-py3-none-manylinux1_x86_64.whl (124.2 MB)\n",
            "Using cached nvidia_cusparse_cu12-12.1.0.106-py3-none-manylinux1_x86_64.whl (196.0 MB)\n",
            "Using cached nvidia_nccl_cu12-2.20.5-py3-none-manylinux2014_x86_64.whl (176.2 MB)\n",
            "Using cached nvidia_nvtx_cu12-12.1.105-py3-none-manylinux1_x86_64.whl (99 kB)\n",
            "Using cached nvidia_nvjitlink_cu12-12.6.20-py3-none-manylinux2014_x86_64.whl (19.7 MB)\n",
            "Installing collected packages: nvidia-nvtx-cu12, nvidia-nvjitlink-cu12, nvidia-nccl-cu12, nvidia-curand-cu12, nvidia-cufft-cu12, nvidia-cuda-runtime-cu12, nvidia-cuda-nvrtc-cu12, nvidia-cuda-cupti-cu12, nvidia-cublas-cu12, nvidia-cusparse-cu12, nvidia-cudnn-cu12, nvidia-cusolver-cu12, sentence_transformers\n",
            "Successfully installed nvidia-cublas-cu12-12.1.3.1 nvidia-cuda-cupti-cu12-12.1.105 nvidia-cuda-nvrtc-cu12-12.1.105 nvidia-cuda-runtime-cu12-12.1.105 nvidia-cudnn-cu12-8.9.2.26 nvidia-cufft-cu12-11.0.2.54 nvidia-curand-cu12-10.3.2.106 nvidia-cusolver-cu12-11.4.5.107 nvidia-cusparse-cu12-12.1.0.106 nvidia-nccl-cu12-2.20.5 nvidia-nvjitlink-cu12-12.6.20 nvidia-nvtx-cu12-12.1.105 sentence_transformers-3.0.1\n"
          ]
        }
      ]
    },
    {
      "cell_type": "markdown",
      "source": [
        "#import thư viện"
      ],
      "metadata": {
        "id": "ZbnwSmFla7Sc"
      }
    },
    {
      "cell_type": "code",
      "source": [
        "from sklearn.svm import SVR# mô hình chạy thử\n",
        "from sklearn.svm import SVC# mô hình chạy thử\n",
        "from sklearn.neighbors import KNeighborsClassifier# mô hình chạy thử\n",
        "import pandas as pd# lấy dữ liệu\n",
        "import numpy as np # tính toán\n",
        "import matplotlib.pyplot as plt # vẽ đồ thị\n",
        "from sentence_transformers import SentenceTransformer # Doc2Vec với dữ liệu dùng để kiểm thử\n",
        "from sklearn.cluster import KMeans # Clustering\n",
        "from sklearn.model_selection import train_test_split # Chia dữ liệu\n",
        "from sklearn.model_selection import cross_val_score, KFold # đánh giá mô hình\n",
        "from sklearn.metrics import classification_report, accuracy_score, confusion_matrix #đánh giá mô hình\n",
        "import re # tiền xử lý\n",
        "import string # tiền xử lý\n",
        "from sklearn.decomposition import PCA # giảm chiều dữ liệu\n",
        "from scipy.spatial.distance import pdist, squareform # Tìm tâm cụm\n",
        "from sklearn.metrics.pairwise import euclidean_distances #tính khoảng cách đầu vào và so sánh với tâm cụm\n",
        "from sklearn.svm import OneClassSVM # Phân loại\n",
        "from sklearn.feature_extraction.text import TfidfVectorizer # Tính tfidf\n",
        "import joblib\n",
        "import warnings # ngăn cảnh báo vô hại"
      ],
      "metadata": {
        "id": "6sjZr1aqa7GV",
        "colab": {
          "base_uri": "https://localhost:8080/"
        },
        "outputId": "72c1fb64-435d-4fac-8181-8b7c2b01cca8"
      },
      "execution_count": null,
      "outputs": [
        {
          "output_type": "stream",
          "name": "stderr",
          "text": [
            "/usr/local/lib/python3.10/dist-packages/sentence_transformers/cross_encoder/CrossEncoder.py:11: TqdmExperimentalWarning: Using `tqdm.autonotebook.tqdm` in notebook mode. Use `tqdm.tqdm` instead to force console mode (e.g. in jupyter console)\n",
            "  from tqdm.autonotebook import tqdm, trange\n"
          ]
        }
      ]
    },
    {
      "cell_type": "markdown",
      "source": [
        "#Hàm"
      ],
      "metadata": {
        "id": "-chsJnlkaow9"
      }
    },
    {
      "cell_type": "code",
      "source": [
        "vietnamese_stop_words = [\n",
        "              'là', 'và', 'có', 'trên', 'cho', 'một', 'các', 'được', 'như', 'với',\n",
        "              'của', 'ở', 'khi', 'đã', 'còn', 'thì', 'này', 'bởi', 'đó', 'để', 'năm',\n",
        "              'ngày', 'vào', 'sau', 'tại', 'trong', 'rằng', 'đến', 'từ'\n",
        "              ]"
      ],
      "metadata": {
        "id": "jVOuwTx6a2eL"
      },
      "execution_count": null,
      "outputs": []
    },
    {
      "cell_type": "code",
      "source": [
        "pca = PCA(n_components=2)"
      ],
      "metadata": {
        "id": "StV3nKvbsGfM"
      },
      "execution_count": null,
      "outputs": []
    },
    {
      "cell_type": "code",
      "source": [
        "model = SentenceTransformer('/content/drive/MyDrive/SIC/model_doc2vec')"
      ],
      "metadata": {
        "id": "JP3sCzu4a3dt"
      },
      "execution_count": null,
      "outputs": []
    },
    {
      "cell_type": "code",
      "source": [
        "model_kmeans = joblib.load('/content/drive/MyDrive/SIC/kmeans_model.pkl')"
      ],
      "metadata": {
        "id": "C0A8WqH2a4lT"
      },
      "execution_count": null,
      "outputs": []
    },
    {
      "cell_type": "code",
      "source": [
        "#Hàm làm sạch dữ liệu <nên dùng trước khi vector hoá dữ liệu>\n",
        "def convertData(text):\n",
        "  text = text.lower()\n",
        "  text = re.sub('\\[.*?\\]','',text)\n",
        "  text = re.sub(\"\\\\W\",\" \",text)\n",
        "  text = re.sub('https?://\\S+|www\\.\\S+','',text)\n",
        "  text = re.sub('<.*?>+',b'',text)\n",
        "  text = re.sub('[%s]' % re.escape(string.punctuation),'',text)\n",
        "  text = re.sub('\\w*\\d\\w*','',text)\n",
        "  text = re.sub(' +', ' ',text)\n",
        "  text = text.strip()\n",
        "  text = ' '.join([word for word in text.split() if word not in vietnamese_stop_words])\n",
        "  return text"
      ],
      "metadata": {
        "id": "ZqLPFH-4azWD"
      },
      "execution_count": null,
      "outputs": []
    },
    {
      "cell_type": "markdown",
      "source": [
        "<h2>Cosine_similarity"
      ],
      "metadata": {
        "id": "2IydxwjDsmK1"
      }
    },
    {
      "cell_type": "code",
      "source": [
        "# #Hàm tính độ đo cosine\n",
        "# def cosine_similarity(x_vec,y_vec):\n",
        "#   cosine_similarities = []\n",
        "#   for i in range(x_vec.shape[0]):\n",
        "#     cos_sim = (x_vec[i] * y_vec.T).toarray().squeeze()\n",
        "#     cosine_similarities.append(cos_sim)\n",
        "#   return cosine_similarities\n",
        "\n",
        "def cosine_similarity(x_vec,y_vec):\n",
        "  cosine_similarities = x_vec.dot(y_vec.T)\n",
        "  return cosine_similarities.toarray().squeeze()"
      ],
      "metadata": {
        "id": "Y2Q2w-DAar8l"
      },
      "execution_count": null,
      "outputs": []
    },
    {
      "cell_type": "code",
      "source": [
        "#Hàm kiểm thử cho đánh giá độ tương đồng Cosine\n",
        "def Cosine_sml(lt, data_test, len_real):#data_test và len_real là list:8943\n",
        "  for i in range(len(data_test)):\n",
        "    content = [convertData(txt) for txt in data_test[i]['Content']]\n",
        "    vectors_content = vectorizer.transform(content)\n",
        "    cosine_similarities = cosine_similarity(vectors_content,real_vectors)\n",
        "    danhgia_r = 0\n",
        "    danhgia_f = 0\n",
        "    for idx, x in enumerate(cosine_similarities):\n",
        "      if x.max() > 0.5:\n",
        "        danhgia_f +=1\n",
        "        # if idx >= len_real[i]:\n",
        "        #   danhgia_fir +=1\n",
        "      # if x.max() < 0.5:\n",
        "      #   lt.append(idx)\n",
        "    # print(f'Số lượng tin có khả năng là thật của data_test{i} : {danhgia_r}')\n",
        "    print(f'Tổng số tin giả của data_test{i} : {len(data_test[i])}')\n",
        "    print(f'Số lượng tin được phát hiện có khả năng là giả của data_test{i}: {danhgia_f}')\n",
        "    # print(f\"Tỉ lệ tin có khả năng là thật data_test{i}: {(danhgia_)/(len(data_test[i]))}\")\n",
        "    # print(f'Độ chênh lệch giữa dự đoán và kết quả số tin thật: {abs(danhgia_r - len_real[i])}')\n",
        "    print(f\"Độ chính xác khi dự đoán tin giả : {danhgia_f/len(data_test[i])}\")\n",
        "    # print(f\"Độ chính xác trong việc dự đoán tin giả data_test{i}: { 1 - (danhgia_fir/(len(data_test[i])-len_real[i] )) } \")\n",
        "    # lt.append(1 - (danhgia_fir/(len(data_test[i]))))\n",
        "    lt.append(danhgia_f/len(data_test[i]))\n",
        "    print('_____________________________________________________________________________________')\n",
        "  return lt"
      ],
      "metadata": {
        "id": "x3E0L7_Fpvjs"
      },
      "execution_count": null,
      "outputs": []
    },
    {
      "cell_type": "markdown",
      "source": [
        "<h2> Kmeans </h2>"
      ],
      "metadata": {
        "id": "zPwL_ZB-spN8"
      }
    },
    {
      "cell_type": "code",
      "source": [
        "#hàm này tính ngưỡng cho Kmeans\n",
        "def caculate_thresholds(model, data, cluster_numb):\n",
        "  ans = []\n",
        "  data = pca.fit_transform(data)\n",
        "  if cluster_numb > model.n_clusters or cluster_numb == None:\n",
        "    return None\n",
        "  for i in range(model.n_clusters):\n",
        "    cluster_ = data[model.labels_ == i]\n",
        "    distance = model.transform(cluster_)\n",
        "    min_distance = distance.min(axis=1)\n",
        "    max_distance = distance.max(axis=1)\n",
        "    threshold = (max_distance.sum()/len(max_distance)) - (min_distance.sum()/len(min_distance))\n",
        "    ans.append(threshold)\n",
        "  return ans"
      ],
      "metadata": {
        "id": "pSwRz6CVrYR3"
      },
      "execution_count": null,
      "outputs": []
    },
    {
      "cell_type": "code",
      "source": [
        "#Hàm dùng của Kmeans\n",
        "def isFake(text, ths):\n",
        "  # list_test.append(text)# nhằm lưu lại các text đã dùng\n",
        "  propress_text = convertData(text)\n",
        "  ebd_text = model.encode(propress_text)\n",
        "  ebd_text = pca.transform(ebd_text.reshape(1,-1))#.reshape(1,-1)\n",
        "  toadoy = ebd_text[0][1]\n",
        "  toadox = ebd_text[0][0]\n",
        "  canhhuyen = np.sqrt(toadox**2 + toadoy**2)\n",
        "  if canhhuyen > ths[0]:\n",
        "    return False\n",
        "  else:\n",
        "    return True"
      ],
      "metadata": {
        "id": "wp4ZRz1MavTc"
      },
      "execution_count": null,
      "outputs": []
    },
    {
      "cell_type": "code",
      "source": [
        "def Kmeans_danhgia(lt_km, data_test, ths):\n",
        "  warnings.filterwarnings(\"ignore\", message=\"X does not have valid feature names, but PCA was fitted with feature names\")\n",
        "  for i in data_test:\n",
        "    dem = 0\n",
        "    for id,j in enumerate(i['Content']):\n",
        "      if isFake(j,ths) == False:\n",
        "        dem+=1\n",
        "    print(f'Tổng số lượng tin giả{len(i)}')\n",
        "    print(f'Số lượng tin có khả năng là giả được phát hiện data_test : {dem}')\n",
        "\n",
        "    print(f'Độ chính xác: {(dem)/len(i)}')\n",
        "    print('_______________________________________________________________')\n",
        "    lt_km.append((dem)/len(i))# tỉ lệ đoán được tin có khả năng là giả\n",
        "    return lt_km"
      ],
      "metadata": {
        "id": "XDMlZYaIqhLN"
      },
      "execution_count": null,
      "outputs": []
    },
    {
      "cell_type": "code",
      "source": [
        "def trucquanhoa_Kmeans(data,model_kmeans, ebd_text):\n",
        "\n",
        "  plt.figure(figsize=(10, 6))\n",
        "\n",
        "  plt.scatter(data[:,0], data[:, 1], c=model_kmeans.labels_, cmap='cividis')\n",
        "  plt.scatter(centroids[:,0],centroids[:,1],marker='+',color='red',s=100)# s là kích thước của tất cả các điểm centroids, đặt 100 để chúng trở nên nổi bật hơn\n",
        "  plt.scatter(centroid[0][0],centroid[1][1],marker='o',color='red',s=130)\n",
        "  plt.scatter(ebd_text[0][0],ebd_text[0][1]+centroid[1][1],marker='o',color='blue',s=20)\n",
        "  #\n",
        "  #tìm ra ngưỡng thích hợp làm ngưỡng chung\n",
        "  circle = plt.Circle((centroid [0][0],centroid[1][1]), radius=ths[0], color='red', fill=False, linestyle='--')\n",
        "  plt.gca().add_patch(circle)\n",
        "\n",
        "\n",
        "  ##Vẽ đồ thị để hình dung cách tính khoảng cách\n",
        "\n",
        "  plt.axvline(x=centroid[0][0], color='r', linestyle='-')\n",
        "  plt.axhline(y=centroid[1][1],color='blue')\n",
        "\n",
        "  plt.axhline(y=ebd_text[0][1]+centroid[1][1],color='black')\n",
        "  plt.axvline(x=ebd_text[0][0], color='r', linestyle='-')\n",
        "  # plt.axhline(y=ths[0] + centroid[1][1],color='blue')\n",
        "  # plt.axvline(x=0, color='gray', linestyle='--')\n",
        "  # plt.axhline(y=0, color='gray', linestyle='--')\n",
        "\n",
        "  plt.xlabel('Feature 1')\n",
        "  plt.ylabel('Feature 2')\n",
        "  plt.title('K-means Clustering')\n",
        "  plt.show()"
      ],
      "metadata": {
        "id": "ml9deY4Cr2AP"
      },
      "execution_count": null,
      "outputs": []
    },
    {
      "cell_type": "markdown",
      "source": [
        "#Gọi dữ liệu test"
      ],
      "metadata": {
        "id": "wbI66v_neSve"
      }
    },
    {
      "cell_type": "code",
      "source": [
        "ttg1 = pd.read_csv('/content/drive/MyDrive/Data_/tep_tin_gia_tu_gpt.csv')\n",
        "ttg2 = pd.read_csv('/content/drive/MyDrive/Data_/test.csv')"
      ],
      "metadata": {
        "id": "AnATekJxVR11"
      },
      "execution_count": null,
      "outputs": []
    },
    {
      "cell_type": "code",
      "source": [
        "ttg1.columns = ['Content']\n",
        "print(ttg2.columns)"
      ],
      "metadata": {
        "id": "7zbi9RYyVYr8",
        "colab": {
          "base_uri": "https://localhost:8080/"
        },
        "outputId": "d07b8e20-3b4d-432f-de7d-f69bfb45cb4a"
      },
      "execution_count": null,
      "outputs": [
        {
          "output_type": "stream",
          "name": "stdout",
          "text": [
            "Index(['Content'], dtype='object')\n"
          ]
        }
      ]
    },
    {
      "cell_type": "code",
      "source": [
        "teptingia = pd.concat([ttg1,ttg2])"
      ],
      "metadata": {
        "id": "MVYAI5uzVgtb"
      },
      "execution_count": null,
      "outputs": []
    },
    {
      "cell_type": "code",
      "source": [
        "teptingia.reset_index(inplace=True)\n",
        "teptingia.to_csv(\"/content/drive/MyDrive/Data_/Data_test_300/DATA_F.csv\")"
      ],
      "metadata": {
        "id": "k4Waw_nhViCa"
      },
      "execution_count": null,
      "outputs": []
    },
    {
      "cell_type": "code",
      "source": [
        "#Tập dữ liệu gốc ~ dùng với độ đo cosine\n",
        "real_news = pd.read_csv('/content/drive/MyDrive/Data_/Data_test_300/DATA_.csv')#Tập tin có thể là thật\n",
        "teptingia = pd.read_csv('/content/drive/MyDrive/Data_/Data_test_300/DATA_F.csv')#Tập tin có thể là giả\n",
        "teptingia.drop(columns=['Unnamed: 0'],inplace=True)\n",
        "# teptingia.columns = ['Content']\n",
        "teptingia.reset_index(inplace=True)"
      ],
      "metadata": {
        "id": "lZrNj4xseSH0"
      },
      "execution_count": null,
      "outputs": []
    },
    {
      "cell_type": "code",
      "source": [
        "teptingia.drop(columns=['index'],inplace=True)"
      ],
      "metadata": {
        "id": "d5a4_2m6U1-T"
      },
      "execution_count": null,
      "outputs": []
    },
    {
      "cell_type": "code",
      "source": [
        "teptingia.drop(columns=['level_0'],inplace=True)"
      ],
      "metadata": {
        "id": "rkxYfswbtxq1"
      },
      "execution_count": null,
      "outputs": []
    },
    {
      "cell_type": "code",
      "source": [
        "# k = real_news[:4000]\n",
        "# k.drop(columns=['Unnamed: 0', 'Date', 'Source'], inplace = True)\n",
        "# d_test = pd.concat([k,teptingia])\n",
        "# d_test.reset_index(inplace=True)\n",
        "# d_test.drop(columns=['index'],inplace=True)#4000 tin thật và 3374 tin giả"
      ],
      "metadata": {
        "id": "z_I4kz_2TdiN"
      },
      "execution_count": null,
      "outputs": []
    },
    {
      "cell_type": "markdown",
      "source": [
        "#Độ tương đồng Cosine"
      ],
      "metadata": {
        "id": "ICP1z9Hrwr2l"
      }
    },
    {
      "cell_type": "code",
      "source": [
        "vectorizer = TfidfVectorizer()\n",
        "real_vectors = vectorizer.fit_transform(real_news['Content'])\n",
        "# data_test = list()\n",
        "# data_test.append(teptingia)"
      ],
      "metadata": {
        "id": "LxQEArq6UTWG"
      },
      "execution_count": null,
      "outputs": []
    },
    {
      "cell_type": "code",
      "source": [
        "lt = list()# để lưu kết quả test\n",
        "lt_km = list()\n",
        "lit = []\n",
        "lit.append(len(real_news))\n",
        "data_tt = [teptingia]#so sánh giữa tin giả(2817) với dữ liệu tin thật"
      ],
      "metadata": {
        "id": "oOX8E1MPpVvD"
      },
      "execution_count": null,
      "outputs": []
    },
    {
      "cell_type": "code",
      "source": [
        "teptingia.shape"
      ],
      "metadata": {
        "id": "XfYRasXWsHHE",
        "colab": {
          "base_uri": "https://localhost:8080/"
        },
        "outputId": "7b7f4d8d-66d5-413d-d95c-d9b8e8007f7e"
      },
      "execution_count": null,
      "outputs": [
        {
          "output_type": "execute_result",
          "data": {
            "text/plain": [
              "(2817, 1)"
            ]
          },
          "metadata": {},
          "execution_count": 28
        }
      ]
    },
    {
      "cell_type": "code",
      "source": [
        "Cosine_sml(lt,data_tt,lit)#"
      ],
      "metadata": {
        "id": "yGTYknZbkKUh",
        "colab": {
          "base_uri": "https://localhost:8080/"
        },
        "outputId": "483cba63-aa98-462e-8034-4ffc62b75081"
      },
      "execution_count": null,
      "outputs": [
        {
          "output_type": "stream",
          "name": "stdout",
          "text": [
            "Tổng số tin giả của data_test0 : 2817\n",
            "Số lượng tin được phát hiện có khả năng là giả của data_test0: 1130\n",
            "Độ chính xác khi dự đoán tin giả : 0.40113596024139153\n",
            "_____________________________________________________________________________________\n"
          ]
        },
        {
          "output_type": "execute_result",
          "data": {
            "text/plain": [
              "[0.40113596024139153]"
            ]
          },
          "metadata": {},
          "execution_count": 29
        }
      ]
    },
    {
      "cell_type": "markdown",
      "source": [
        "#Kmeans"
      ],
      "metadata": {
        "id": "PnbepRfXsXPT"
      }
    },
    {
      "cell_type": "code",
      "source": [
        "data = pd.read_csv('/content/drive/MyDrive/SIC/Embeddings_DATA.csv')\n",
        "data.drop(columns=['Unnamed: 0'],inplace=True)\n",
        "pca = PCA(n_components=2)\n",
        "data = pca.fit_transform(data)"
      ],
      "metadata": {
        "id": "l0j14RqSvtZR"
      },
      "execution_count": null,
      "outputs": []
    },
    {
      "cell_type": "code",
      "source": [
        "# Công đoạn tìm tâm cụm\n",
        "centroids = model_kmeans.cluster_centers_\n",
        "# với 4 cụm ta tìm x giữa 2 cụm xa nhau theo trục x và 2 cụm theo trục y\n",
        "cs1 = centroids[0]\n",
        "cs2 = centroids[1]\n",
        "cs3 = centroids[2]\n",
        "cs4 = centroids[3]\n",
        "centroid_x = (cs1 + cs2)/2\n",
        "centroid_y = (cs3 + cs4)/2\n",
        "centroid = np.array([centroid_x,centroid_y])"
      ],
      "metadata": {
        "id": "6oGK3hOGsU4s"
      },
      "execution_count": null,
      "outputs": []
    },
    {
      "cell_type": "code",
      "source": [
        "#Công đoạn tính ngưỡng cho từng cụm\n",
        "for i in range(model_kmeans.n_clusters):\n",
        "  ths = caculate_thresholds(model_kmeans, data, model_kmeans.n_clusters)\n"
      ],
      "metadata": {
        "id": "x-ucwrAMsRPz"
      },
      "execution_count": null,
      "outputs": []
    },
    {
      "cell_type": "code",
      "source": [
        "#array([0.04610376, 0.03291986])\n",
        "#array([0.58341836, 0.41658164])\n",
        "pca.explained_variance_ratio_"
      ],
      "metadata": {
        "id": "610bMuxDassr",
        "colab": {
          "base_uri": "https://localhost:8080/"
        },
        "outputId": "2f6ebda7-2075-489d-d866-4602723e9634"
      },
      "execution_count": null,
      "outputs": [
        {
          "output_type": "execute_result",
          "data": {
            "text/plain": [
              "array([0.58341838, 0.41658162])"
            ]
          },
          "metadata": {},
          "execution_count": 33
        }
      ]
    },
    {
      "cell_type": "code",
      "source": [
        "Kmeans_danhgia(lt_km,data_tt, ths)#ths là ngưỡng"
      ],
      "metadata": {
        "id": "j3sSNeOyqj26",
        "colab": {
          "base_uri": "https://localhost:8080/"
        },
        "outputId": "2f898cd6-cbb6-4825-b766-051a4c1efab7"
      },
      "execution_count": null,
      "outputs": [
        {
          "output_type": "stream",
          "name": "stdout",
          "text": [
            "Tổng số lượng tin giả2817\n",
            "Số lượng tin có khả năng là giả được phát hiện data_test : 1075\n",
            "Độ chính xác: 0.38161164359247424\n",
            "_______________________________________________________________\n"
          ]
        },
        {
          "output_type": "execute_result",
          "data": {
            "text/plain": [
              "[0.38161164359247424]"
            ]
          },
          "metadata": {},
          "execution_count": 36
        }
      ]
    },
    {
      "cell_type": "markdown",
      "source": [
        "#SVM_SVC"
      ],
      "metadata": {
        "id": "Q3sRb5AuVWV-"
      }
    },
    {
      "cell_type": "code",
      "source": [
        "# svc_model_nhieu = joblib.load('/content/drive/MyDrive/SIC/svc_model.joblib')"
      ],
      "metadata": {
        "id": "mavTuUXag420"
      },
      "execution_count": null,
      "outputs": []
    },
    {
      "cell_type": "code",
      "source": [
        "svc_model_2000 = joblib.load('/content/drive/MyDrive/SIC/svc_model_test_2000_data_xin.joblib')"
      ],
      "metadata": {
        "id": "cVqyiWUsg-KI"
      },
      "execution_count": null,
      "outputs": []
    },
    {
      "cell_type": "code",
      "source": [
        "teptingia.shape#2817"
      ],
      "metadata": {
        "id": "ld6u95gkmINs",
        "colab": {
          "base_uri": "https://localhost:8080/"
        },
        "outputId": "2a1143c7-7c89-4249-c74f-662dbd8151ed"
      },
      "execution_count": null,
      "outputs": [
        {
          "output_type": "execute_result",
          "data": {
            "text/plain": [
              "(2817, 1)"
            ]
          },
          "metadata": {},
          "execution_count": 39
        }
      ]
    },
    {
      "cell_type": "code",
      "source": [
        "real_n = real_news[:4000]"
      ],
      "metadata": {
        "id": "3Q3OCSJdnDKC"
      },
      "execution_count": null,
      "outputs": []
    },
    {
      "cell_type": "code",
      "source": [
        "X_Fake = [convertData(teptingia['Content'][i]) for i in range(len(teptingia['Content']))]\n",
        "X_Real = [convertData(real_n['Content'][i]) for i in range(len(real_n['Content']))]"
      ],
      "metadata": {
        "id": "XbmfoEuJl_ID"
      },
      "execution_count": null,
      "outputs": []
    },
    {
      "cell_type": "code",
      "source": [
        "X = X_Real + X_Fake\n",
        "Y = [1]*len(X_Real) + [0]*len(X_Fake)"
      ],
      "metadata": {
        "id": "C6zz91PtnLRZ"
      },
      "execution_count": null,
      "outputs": []
    },
    {
      "cell_type": "code",
      "source": [
        "X_train, X_test, y_train, y_test = train_test_split(X, Y, test_size=0.2, random_state=42)"
      ],
      "metadata": {
        "id": "OCQ5ynezl6vm"
      },
      "execution_count": null,
      "outputs": []
    },
    {
      "cell_type": "code",
      "source": [
        "vectorizer = TfidfVectorizer()#max_features=5000\n",
        "X_train_tfidf = vectorizer.fit_transform(X_train)\n",
        "X_test_tfidf = vectorizer.transform(X_test)\n",
        "#bert sentence_transformer"
      ],
      "metadata": {
        "id": "irZnXa6anQst"
      },
      "execution_count": null,
      "outputs": []
    },
    {
      "cell_type": "code",
      "source": [
        "# svc_model_nhieu.fit(X_train_tfidf, y_train)\n",
        "svc_model_2000.fit(X_train_tfidf, y_train)"
      ],
      "metadata": {
        "id": "1aNerDRxnZk-",
        "colab": {
          "base_uri": "https://localhost:8080/",
          "height": 75
        },
        "outputId": "4828ea0e-09e8-43c9-c224-0c906ce237f0"
      },
      "execution_count": null,
      "outputs": [
        {
          "output_type": "execute_result",
          "data": {
            "text/plain": [
              "SVC(random_state=42)"
            ],
            "text/html": [
              "<style>#sk-container-id-1 {color: black;}#sk-container-id-1 pre{padding: 0;}#sk-container-id-1 div.sk-toggleable {background-color: white;}#sk-container-id-1 label.sk-toggleable__label {cursor: pointer;display: block;width: 100%;margin-bottom: 0;padding: 0.3em;box-sizing: border-box;text-align: center;}#sk-container-id-1 label.sk-toggleable__label-arrow:before {content: \"▸\";float: left;margin-right: 0.25em;color: #696969;}#sk-container-id-1 label.sk-toggleable__label-arrow:hover:before {color: black;}#sk-container-id-1 div.sk-estimator:hover label.sk-toggleable__label-arrow:before {color: black;}#sk-container-id-1 div.sk-toggleable__content {max-height: 0;max-width: 0;overflow: hidden;text-align: left;background-color: #f0f8ff;}#sk-container-id-1 div.sk-toggleable__content pre {margin: 0.2em;color: black;border-radius: 0.25em;background-color: #f0f8ff;}#sk-container-id-1 input.sk-toggleable__control:checked~div.sk-toggleable__content {max-height: 200px;max-width: 100%;overflow: auto;}#sk-container-id-1 input.sk-toggleable__control:checked~label.sk-toggleable__label-arrow:before {content: \"▾\";}#sk-container-id-1 div.sk-estimator input.sk-toggleable__control:checked~label.sk-toggleable__label {background-color: #d4ebff;}#sk-container-id-1 div.sk-label input.sk-toggleable__control:checked~label.sk-toggleable__label {background-color: #d4ebff;}#sk-container-id-1 input.sk-hidden--visually {border: 0;clip: rect(1px 1px 1px 1px);clip: rect(1px, 1px, 1px, 1px);height: 1px;margin: -1px;overflow: hidden;padding: 0;position: absolute;width: 1px;}#sk-container-id-1 div.sk-estimator {font-family: monospace;background-color: #f0f8ff;border: 1px dotted black;border-radius: 0.25em;box-sizing: border-box;margin-bottom: 0.5em;}#sk-container-id-1 div.sk-estimator:hover {background-color: #d4ebff;}#sk-container-id-1 div.sk-parallel-item::after {content: \"\";width: 100%;border-bottom: 1px solid gray;flex-grow: 1;}#sk-container-id-1 div.sk-label:hover label.sk-toggleable__label {background-color: #d4ebff;}#sk-container-id-1 div.sk-serial::before {content: \"\";position: absolute;border-left: 1px solid gray;box-sizing: border-box;top: 0;bottom: 0;left: 50%;z-index: 0;}#sk-container-id-1 div.sk-serial {display: flex;flex-direction: column;align-items: center;background-color: white;padding-right: 0.2em;padding-left: 0.2em;position: relative;}#sk-container-id-1 div.sk-item {position: relative;z-index: 1;}#sk-container-id-1 div.sk-parallel {display: flex;align-items: stretch;justify-content: center;background-color: white;position: relative;}#sk-container-id-1 div.sk-item::before, #sk-container-id-1 div.sk-parallel-item::before {content: \"\";position: absolute;border-left: 1px solid gray;box-sizing: border-box;top: 0;bottom: 0;left: 50%;z-index: -1;}#sk-container-id-1 div.sk-parallel-item {display: flex;flex-direction: column;z-index: 1;position: relative;background-color: white;}#sk-container-id-1 div.sk-parallel-item:first-child::after {align-self: flex-end;width: 50%;}#sk-container-id-1 div.sk-parallel-item:last-child::after {align-self: flex-start;width: 50%;}#sk-container-id-1 div.sk-parallel-item:only-child::after {width: 0;}#sk-container-id-1 div.sk-dashed-wrapped {border: 1px dashed gray;margin: 0 0.4em 0.5em 0.4em;box-sizing: border-box;padding-bottom: 0.4em;background-color: white;}#sk-container-id-1 div.sk-label label {font-family: monospace;font-weight: bold;display: inline-block;line-height: 1.2em;}#sk-container-id-1 div.sk-label-container {text-align: center;}#sk-container-id-1 div.sk-container {/* jupyter's `normalize.less` sets `[hidden] { display: none; }` but bootstrap.min.css set `[hidden] { display: none !important; }` so we also need the `!important` here to be able to override the default hidden behavior on the sphinx rendered scikit-learn.org. See: https://github.com/scikit-learn/scikit-learn/issues/21755 */display: inline-block !important;position: relative;}#sk-container-id-1 div.sk-text-repr-fallback {display: none;}</style><div id=\"sk-container-id-1\" class=\"sk-top-container\"><div class=\"sk-text-repr-fallback\"><pre>SVC(random_state=42)</pre><b>In a Jupyter environment, please rerun this cell to show the HTML representation or trust the notebook. <br />On GitHub, the HTML representation is unable to render, please try loading this page with nbviewer.org.</b></div><div class=\"sk-container\" hidden><div class=\"sk-item\"><div class=\"sk-estimator sk-toggleable\"><input class=\"sk-toggleable__control sk-hidden--visually\" id=\"sk-estimator-id-1\" type=\"checkbox\" checked><label for=\"sk-estimator-id-1\" class=\"sk-toggleable__label sk-toggleable__label-arrow\">SVC</label><div class=\"sk-toggleable__content\"><pre>SVC(random_state=42)</pre></div></div></div></div></div>"
            ]
          },
          "metadata": {},
          "execution_count": 45
        }
      ]
    },
    {
      "cell_type": "code",
      "source": [
        "#Thử với model chạy 2000 dòng dữ liệu xịn\n",
        "y_pred = svc_model_2000.predict(X_test_tfidf)\n",
        "#kiểm tra X_test_tfidf\n",
        "# Calculate the accuracy of the model.\n",
        "\n",
        "accuracy = accuracy_score(y_test, y_pred)\n",
        "\n",
        "print(\"Accuracy: {:.2f}%\".format(accuracy * 100))\n",
        "\n",
        "# Display the classification report and confusion matrix.\n",
        "\n",
        "print(\"Classification Report:\")\n",
        "\n",
        "print(classification_report(y_test, y_pred))\n",
        "\n",
        "print(\"Confusion Matrix:\")\n",
        "\n",
        "print(confusion_matrix(y_test, y_pred))"
      ],
      "metadata": {
        "id": "KgKit75YoBdE",
        "colab": {
          "base_uri": "https://localhost:8080/"
        },
        "outputId": "b03e7ca6-6358-402f-8999-ffa091f4af86"
      },
      "execution_count": null,
      "outputs": [
        {
          "output_type": "stream",
          "name": "stdout",
          "text": [
            "Accuracy: 95.09%\n",
            "Classification Report:\n",
            "              precision    recall  f1-score   support\n",
            "\n",
            "           0       0.90      0.98      0.94       542\n",
            "           1       0.99      0.93      0.96       822\n",
            "\n",
            "    accuracy                           0.95      1364\n",
            "   macro avg       0.95      0.96      0.95      1364\n",
            "weighted avg       0.95      0.95      0.95      1364\n",
            "\n",
            "Confusion Matrix:\n",
            "[[533   9]\n",
            " [ 58 764]]\n"
          ]
        }
      ]
    },
    {
      "cell_type": "markdown",
      "source": [
        "#KNN"
      ],
      "metadata": {
        "id": "xPok29YuuZsH"
      }
    },
    {
      "cell_type": "code",
      "source": [
        "import joblib\n",
        "from joblib import load as ld\n",
        "knn_model = ld('/content/drive/MyDrive/SIC/knn_model_test.joblib')"
      ],
      "metadata": {
        "id": "2N_OAXfvua7h"
      },
      "execution_count": null,
      "outputs": []
    },
    {
      "cell_type": "code",
      "source": [
        "vectorizer = TfidfVectorizer(max_features=5000)#\n",
        "X_train_tfidf = vectorizer.fit_transform(X_train)\n",
        "X_test_tfidf = vectorizer.transform(X_test)"
      ],
      "metadata": {
        "id": "u4uFdYCpv0WN"
      },
      "execution_count": null,
      "outputs": []
    },
    {
      "cell_type": "code",
      "source": [
        "y_pred = knn_model.predict(X_test_tfidf)\n",
        "\n",
        "# Calculate the accuracy of the model.\n",
        "\n",
        "accuracy = accuracy_score(y_test, y_pred)\n",
        "\n",
        "print(\"Accuracy: {:.2f}%\".format(accuracy * 100))\n",
        "\n",
        "# Display the classification report and confusion matrix.\n",
        "\n",
        "print(\"Classification Report:\")\n",
        "\n",
        "print(classification_report(y_test, y_pred))\n",
        "\n",
        "print(\"Confusion Matrix:\")\n",
        "\n",
        "print(confusion_matrix(y_test, y_pred))\n",
        "#bỏ KMeans"
      ],
      "metadata": {
        "colab": {
          "base_uri": "https://localhost:8080/"
        },
        "id": "3FsTgfAcupTS",
        "outputId": "7a199f98-9fed-4c43-b344-f5eaf8e3442b"
      },
      "execution_count": null,
      "outputs": [
        {
          "output_type": "stream",
          "name": "stdout",
          "text": [
            "Accuracy: 64.00%\n",
            "Classification Report:\n",
            "              precision    recall  f1-score   support\n",
            "\n",
            "           0       0.54      0.59      0.57       542\n",
            "           1       0.71      0.67      0.69       822\n",
            "\n",
            "    accuracy                           0.64      1364\n",
            "   macro avg       0.63      0.63      0.63      1364\n",
            "weighted avg       0.65      0.64      0.64      1364\n",
            "\n",
            "Confusion Matrix:\n",
            "[[319 223]\n",
            " [268 554]]\n"
          ]
        }
      ]
    },
    {
      "cell_type": "markdown",
      "source": [
        "#Vẽ kết quả"
      ],
      "metadata": {
        "id": "fUsXzrxpyDos"
      }
    },
    {
      "cell_type": "code",
      "source": [
        "cs = lt[0]\n",
        "km = lt_km[0]\n",
        "models = ['Cosine', 'Kmeans', 'SVC', 'KNN']  # Tên các mô hình\n",
        "scores = [cs, km, 0.9504, 0.64]  # Tỉ số của từng mô hình\n",
        "\n",
        "# Thiết lập vị trí cho các cột\n",
        "x = np.arange(len(models))\n",
        "\n",
        "plt.figure(figsize=(10, 6))\n",
        "\n",
        "# Vẽ biểu đồ cột\n",
        "plt.bar(x, scores, color=['blue', 'orange', 'green', 'red'], alpha=0.7)\n",
        "\n",
        "# Thêm nhãn cho các trục và tiêu đề\n",
        "plt.xticks(x, models)\n",
        "plt.ylim(0, 1)\n",
        "plt.xlabel('Mô Hình')\n",
        "plt.ylabel('Độ chính xác')\n",
        "plt.title('Đánh giá độ chính xác của Các Mô Hình và kỹ thuật')\n",
        "plt.grid(axis='y')  # Thêm lưới cho trục y\n",
        "#Giữ nguyên kết quả tfidf\n",
        "#bổ sung thêm với thực nghiệm sentence_transformer\n",
        "#Bỏ Kmeans"
      ],
      "metadata": {
        "id": "wL9IBY1qoYtU",
        "colab": {
          "base_uri": "https://localhost:8080/",
          "height": 565
        },
        "outputId": "81838885-9040-4325-f62e-72612e97adac"
      },
      "execution_count": null,
      "outputs": [
        {
          "output_type": "display_data",
          "data": {
            "text/plain": [
              "<Figure size 1000x600 with 1 Axes>"
            ],
            "image/png": "[encoded data removed]"
          },
          "metadata": {}
        }
      ]
    },
    {
      "cell_type": "markdown",
      "source": [
        "#______________________________________________________________________________"
      ],
      "metadata": {
        "id": "HMDbnQvKutmt"
      }
    },
    {
      "cell_type": "code",
      "source": [
        "trucquan"
      ],
      "metadata": {
        "id": "AoJj9DhK0O0V"
      },
      "execution_count": null,
      "outputs": []
    },
    {
      "cell_type": "code",
      "source": [
        "# #Thử với model chạy 6000 dòng dữ liệu dổm\n",
        "# y_pred = svc_model_nhieu.predict(X_test_tfidf)\n",
        "\n",
        "# # Calculate the accuracy of the model.\n",
        "\n",
        "# accuracy = accuracy_score(y_test, y_pred)\n",
        "\n",
        "# print(\"Accuracy: {:.2f}%\".format(accuracy * 100))\n",
        "\n",
        "# # Display the classification report and confusion matrix.\n",
        "\n",
        "# print(\"Classification Report:\")\n",
        "\n",
        "# print(classification_report(y_test, y_pred))\n",
        "\n",
        "# print(\"Confusion Matrix:\")\n",
        "\n",
        "# print(confusion_matrix(y_test, y_pred))"
      ],
      "metadata": {
        "id": "NQs6oOuInwtL"
      },
      "execution_count": null,
      "outputs": []
    },
    {
      "cell_type": "code",
      "source": [
        "# # 5 tập test\n",
        "# data_test0 = pd.read_csv(\"/content/drive/MyDrive/Data_/Data_test_300/data_test_114_.csv\")\n",
        "# data_test1 = pd.read_csv(\"/content/drive/MyDrive/Data_/Data_test_300/data_test_140_.csv\")\n",
        "# data_test2 = pd.read_csv(\"/content/drive/MyDrive/Data_/Data_test_300/data_test_155_.csv\")\n",
        "# data_test3 = pd.read_csv(\"/content/drive/MyDrive/Data_/Data_test_300/data_test_166_.csv\")\n",
        "# data_test4 = pd.read_csv(\"/content/drive/MyDrive/Data_/Data_test_300/data_test_200_.csv\")\n",
        "\n",
        "# real_news.drop(columns=['Unnamed: 0'],inplace=True)\n",
        "# data_test0.drop(columns=['Unnamed: 0'],inplace=True)\n",
        "# data_test1.drop(columns=['Unnamed: 0'],inplace=True)\n",
        "# data_test2.drop(columns=['Unnamed: 0'],inplace=True)\n",
        "# data_test3.drop(columns=['Unnamed: 0'],inplace=True)\n",
        "# data_test4.drop(columns=['Unnamed: 0'],inplace=True)\n",
        "# data_test = [data_test0,data_test1,data_test2,data_test3,data_test4]\n",
        "# len_real = [114,140,155,166,200]"
      ],
      "metadata": {
        "id": "6dmh6F9EIilC"
      },
      "execution_count": null,
      "outputs": []
    },
    {
      "cell_type": "code",
      "source": [
        "\n",
        "\n",
        "#Hàm tính độ đo cosine\n",
        "#Hàm tính độ đo cosine\n",
        "# def cosine_similarity(x_vec,y_vec):\n",
        "#   cosine_similarities = []\n",
        "#   for i in range(x_vec.shape[0]):\n",
        "#     for j in range(y_vec.shape[0]):\n",
        "#       dot = (x_vec[i] * y_vec.T[j]).toarray().squeeze()\n",
        "#       len_vec_x = np.linalg.norm(x_vec[i])\n",
        "#       len_vec_y = np.linalg.norm(y_vec.T[j])\n",
        "#       cos_sim = (dot)/(len_vec_x*len_vec_y)\n",
        "#   cosine_similarities.append()\n",
        "#   return cosine_similarities\n",
        "# numb = 0\n",
        "# def cosine_similarity(x_vec,y_vec):\n",
        "#   cosine_similarities = x_vec.dot(y_vec.T) / np.outer(np.linalg.norm(x_vec, axis=1),np.linalg.norm(y_vec, axis=1))\n",
        "#   numb+=1\n",
        "#   print(numb)\n",
        "#   return cosine_similarities\n"
      ],
      "metadata": {
        "id": "YYu2e1n9Ikio"
      },
      "execution_count": null,
      "outputs": []
    },
    {
      "cell_type": "code",
      "source": [
        "# vectorizer = TfidfVectorizer(max_features=3500)#max_features để 3500 để tránh tình trạng data_test không đủ feature với real_news\n",
        "# real_vectors = vectorizer.fit_transform(real_news['Content'])"
      ],
      "metadata": {
        "id": "1ZTeooQPI3mb"
      },
      "execution_count": null,
      "outputs": []
    },
    {
      "cell_type": "code",
      "source": [
        "# fake_newss  = [convertData(txt) for txt in teptingia['Content']]\n",
        "# fake_vectors = vectorizer.transform(fake_newss)"
      ],
      "metadata": {
        "id": "mmIWVW5RI7HC"
      },
      "execution_count": null,
      "outputs": []
    }
  ]
}